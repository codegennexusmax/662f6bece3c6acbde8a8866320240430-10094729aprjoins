{
 "cells": [
  {
   "cell_type": "markdown",
   "id": "29423405",
   "metadata": {},
   "source": [
    "***GENERATED CODE FOR 29aprjoins PIPELINE.***"
   ]
  },
  {
   "cell_type": "markdown",
   "id": "a3d553f4",
   "metadata": {},
   "source": [
    "***DON'T EDIT THIS CODE.***"
   ]
  },
  {
   "cell_type": "markdown",
   "id": "01ef5ef5",
   "metadata": {},
   "source": [
    "***CONNECTOR FUNCTIONS TO READ DATA.***"
   ]
  },
  {
   "cell_type": "code",
   "execution_count": null,
   "id": "63e56782",
   "metadata": {},
   "outputs": [],
   "source": [
    "import os\n",
    "import datetime\n",
    "import logging\n",
    "import warnings\n",
    "warnings.filterwarnings('ignore')\n",
    "logging.basicConfig(format='%(levelname)s:%(message)s', level=logging.INFO)\n",
    "\n",
    "\n",
    "class HDFSConnector:\n",
    "\n",
    "    def fetch(spark, config):\n",
    "        ################### INPUT HADOOP HOST PORT TO CONNECT WITH ###############################\n",
    "        hdfs_server = str(os.environ['HDFS_SERVER'])\n",
    "        hdfs_port = int(os.environ['HDFS_PORT'])\n",
    "        df = spark.read.options(header='true', inferschema='true').csv(\n",
    "            f\"hdfs://{hdfs_server}:{hdfs_port}{eval(config)['url']}\", header='true')\n",
    "        display(df.limit(2).toPandas())\n",
    "        return df\n",
    "\n",
    "    def put(df, spark, config):\n",
    "        return df.write.format('csv').options(header='true' if eval(config)[\"is_header\"] == \"Use Header Line\" else 'false',\n",
    "                                              delimiter=eval(config)[\"delimiter\"]).save((\"%s %s\") % (datetime.datetime.now().strftime(\"%Y-%m-%d %H.%M.%S\")+\"_\", eval(config)['url']))\n"
   ]
  },
  {
   "cell_type": "markdown",
   "id": "29bd22c5",
   "metadata": {},
   "source": [
    "***OPERATION FUNCTIONS***"
   ]
  },
  {
   "cell_type": "code",
   "execution_count": null,
   "id": "d202943b",
   "metadata": {},
   "outputs": [],
   "source": [
    "from pyspark.sql import functions as F\n",
    "\n",
    "\n",
    "def QueryBuilder(spark, joindatalist, paths):\n",
    "    listOfDfnames = {}\n",
    "    for path in paths:\n",
    "        listOfDfnames[path['sourcename']] = spark.read.options(\n",
    "            header='true', inferschema='true', delimiter=',').csv('dbfs:' + path['sourcepath'])\n",
    "    for join in joindatalist:\n",
    "        dfA = listOfDfnames[join['sourceA']['sourcename']]\n",
    "        dfB = listOfDfnames[join['sourceB']['sourcename']]\n",
    "        f1 = 'a.' + join['sourceA']['fieldname'].replace(\" \", \"\")\n",
    "        f2 = 'b.' + join['sourceB']['fieldname'].replace(\" \", \"\")\n",
    "        listOfDfnames[join['sourceA']['sourcename'] + '_' + join['sourceB']['sourcename']] = removeIfDuplicates(dfA.alias('a').join(\n",
    "            dfB.alias('b'), F.col(f1) == F.col(f2),\n",
    "            how=join['joinName']))\n",
    "        joinedDf = listOfDfnames[join['sourceA']\n",
    "                                 ['sourcename'] + '_' + join['sourceB']['sourcename']]\n",
    "    df = removeIfDuplicates(joinedDf)\n",
    "    print(display(df.limit(2).toPandas()))\n",
    "    return df\n",
    "\n",
    "\n",
    "def removeIfDuplicates(joinedDf):\n",
    "    cols_new = []\n",
    "    seen = set()\n",
    "    for c in joinedDf.columns:\n",
    "        cols_new.append('{}_dup'.format(c) if c in seen else c)\n",
    "        seen.add(c)\n",
    "    df = joinedDf.toDF(*cols_new).select(*\n",
    "                                         [c for c in cols_new if not c.endswith('_dup')])\n",
    "    return df\n"
   ]
  },
  {
   "cell_type": "markdown",
   "id": "c30aae37",
   "metadata": {},
   "source": [
    "***CONNECTOR FUNCTIONS TO WRITE DATA.***"
   ]
  },
  {
   "cell_type": "code",
   "execution_count": null,
   "id": "7d38e94d",
   "metadata": {},
   "outputs": [],
   "source": [
    "import datetime\n",
    "import requests\n",
    "import datetime\n",
    "import logging\n",
    "import warnings\n",
    "warnings.filterwarnings('ignore')\n",
    "logging.basicConfig(format='%(levelname)s:%(message)s', level=logging.INFO)\n",
    "\n",
    "\n",
    "class NumtraConnector:\n",
    "\n",
    "    def put(inStages, inStagesData, stageId, spark, config):\n",
    "        path = eval(config)['server_url']\n",
    "        baseType = eval(config)['baseType']\n",
    "        results_url = eval(config)['results_url']\n",
    "        server = eval(config)['server']\n",
    "        originalfile = eval(config)['orignalKey']\n",
    "        eval(config)['pathOnly']\n",
    "        filename = eval(config)['filename']\n",
    "        eval(config)['ser']\n",
    "        eval(config)['user']\n",
    "        eval(config)['password']\n",
    "        eval(config)['authSource']\n",
    "        eval(config)['user_id']\n",
    "        eval(config)['parent_id']\n",
    "        eval(config)['project_id']\n",
    "        time = str(int(datetime.datetime.now().timestamp()))\n",
    "\n",
    "        inStagesData[inStages[0]]\n",
    "\n",
    "        print(path)\n",
    "        print(baseType)\n",
    "        print(results_url)\n",
    "        print(server)\n",
    "        print(originalfile)\n",
    "        print(filename)\n",
    "\n",
    "        args = {\n",
    "            'url': path,\n",
    "            'baseType': baseType,\n",
    "            'originalfile': originalfile,\n",
    "            'filename': time + filename\n",
    "        }\n",
    "\n",
    "        response = requests.post(results_url, args)\n",
    "        return response\n"
   ]
  },
  {
   "cell_type": "markdown",
   "id": "d75fc22f",
   "metadata": {},
   "source": [
    "***READING DATAFRAME***"
   ]
  },
  {
   "cell_type": "code",
   "execution_count": null,
   "id": "5cdc55b6",
   "metadata": {},
   "outputs": [],
   "source": [
    "############## CREATE SPARK SESSION ############################ ENTER YOUR SPARK MASTER IP AND PORT TO CONNECT TO SERVER ################\n",
    "from pyspark.sql import SparkSession\n",
    "spark = SparkSession.builder.master('local[1]').getOrCreate()\n",
    "#%run 29aprjoinsHooks.ipynb\n",
    "try:\n",
    "\t#sourcePreExecutionHook()\n",
    "\t\theartfailurefuture = HDFSConnector.fetch(spark, \"{'url': '/FileStore/platform/testdata/1714041767805_HeartFailureFuture.csv', 'filename': 'HeartFailureFuture.csv', 'delimiter': ',', 'file_type': 'Delimeted', 'FilePath': '/OperatorsTest/HeartFailureFuture.csv', 'viewFileName': 'HeartFailureFuture.csv', 'is_header': 'Use Header Line', 'baseType': 'hdfs', 'server_url': '/nexusMax/NexusMaxPlatform/uploads/platform/'}\")\n",
    "\n",
    "\n",
    "\n",
    "\theartfailuretrain = HDFSConnector.fetch(spark, \"{'url': '/FileStore/platform/testdata/1714042041565_HeartFailureTrain.csv', 'filename': 'HeartFailureTrain.csv', 'delimiter': ',', 'file_type': 'Delimeted', 'FilePath': '/OperatorsTest/HeartFailureTrain.csv', 'viewFileName': 'HeartFailureTrain.csv', 'is_header': 'Use Header Line', 'baseType': 'hdfs', 'server_url': '/nexusMax/NexusMaxPlatform/uploads/platform/', 'results_url': 'http://dnm.bfirst.ai:44040/api/read/hdfs'}\")\n",
    "\n",
    "except Exception as ex: \n",
    "\tlogging.error(ex)\n",
    "#spark.stop()\n"
   ]
  },
  {
   "cell_type": "markdown",
   "id": "39b1d277",
   "metadata": {},
   "source": [
    "***PERFORMING OPERATIONS***"
   ]
  },
  {
   "cell_type": "code",
   "execution_count": null,
   "id": "09035437",
   "metadata": {},
   "outputs": [],
   "source": [
    "#%run 29aprjoinsHooks.ipynb\n",
    "try:\n",
    "\t#operationPreExecutionHook()\n",
    "\n",
    "\tjoin = QueryBuilder(spark,[{\"sourceA\": {\"sourceid\": \"662f6bfce3c6acbde8a8868a\", \"fieldname\": \"age\", \"sourceinfo\": {\"source\": \"hdfs\", \"sourceAttributes\": {\"url\": \"/FileStore/platform/testdata/1714042041565_HeartFailureTrain.csv\"}}, \"sourcename\": \"heartfailuretrain\"}, \"sourceB\": {\"sourceid\": \"6630c1e6bd593ce55f4d8114\", \"fieldname\": \"age\", \"sourceinfo\": {\"source\": \"hdfs\", \"sourceAttributes\": {\"url\": \"/FileStore/platform/testdata/1714041767805_HeartFailureFuture.csv\"}}, \"sourcename\": \"heartfailurefuture\"}, \"joinName\": \"inner\"}],[{'sourcename': 'heartfailuretrain', 'sourceinfo': {'source': 'hdfs', 'sourceAttributes': {'url': '/FileStore/platform/testdata/1714042041565_HeartFailureTrain.csv'}}}, {'sourcename': 'heartfailurefuture', 'sourceinfo': {'source': 'hdfs', 'sourceAttributes': {'url': '/FileStore/platform/testdata/1714041767805_HeartFailureFuture.csv'}}}])\n",
    "\t#operationPostExecutionHook(join)\n",
    "\n",
    "except Exception as ex: \n",
    "\tlogging.error(ex)\n"
   ]
  },
  {
   "cell_type": "markdown",
   "id": "83650af5",
   "metadata": {},
   "source": [
    "***WRITING DATAFRAME***"
   ]
  },
  {
   "cell_type": "code",
   "execution_count": null,
   "id": "c777dc3b",
   "metadata": {},
   "outputs": [],
   "source": [
    "#%run 29aprjoinsHooks.ipynb\n",
    "try:\n",
    "\t#sinkPreExecutionHook()\n",
    "\n",
    "\toperatorstestoutput = NumtraConnector.fetch(spark, \"{'samplefile': '/FileStore/platform/sampleData/662f6bfce3c6acbde8a88688JoinStage/part-00000-0053073a-5aa3-4083-ad8f-4a61d1f06b70-c000.csv', 'samplecount': 973, 'originalcount': 973, 'orignalKey': '/FileStore/platform/sampleData/662f6bfce3c6acbde8a88688JoinStage/part-00000-0053073a-5aa3-4083-ad8f-4a61d1f06b70-c000.csv', 'pathOnly': '/OperatorsTest', 'project_id': '66279e60b6d893f4c9a9ec43', 'parent_id': '66279e60b6d893f4c9a9ec43', 'original_schema': [{'checked': True, 'inherited': True, 'is_categorical': False, 'bad_values': '', 'nullable': 'true', '_id': '6630c32cbd593ce55f4d817e', 'field': 'age', 'alias': 'age', 'position': '0'}, {'checked': True, 'inherited': True, 'is_categorical': False, 'bad_values': '', 'nullable': 'true', '_id': '6630c32cbd593ce55f4d817f', 'field': 'anaemia', 'alias': 'anaemia', 'position': '1'}, {'checked': True, 'inherited': True, 'is_categorical': False, 'bad_values': '', 'nullable': 'true', '_id': '6630c32cbd593ce55f4d8180', 'field': 'creatinine_phosphokinase', 'alias': 'creatinine_phosphokinase', 'position': '2'}, {'checked': True, 'inherited': True, 'is_categorical': False, 'bad_values': '', 'nullable': 'true', '_id': '6630c32cbd593ce55f4d8181', 'field': 'diabetes', 'alias': 'diabetes', 'position': '3'}, {'checked': True, 'inherited': True, 'is_categorical': False, 'bad_values': '', 'nullable': 'true', '_id': '6630c32cbd593ce55f4d8182', 'field': 'ejection_fraction', 'alias': 'ejection_fraction', 'position': '4'}, {'checked': True, 'inherited': True, 'is_categorical': False, 'bad_values': '', 'nullable': 'true', '_id': '6630c32cbd593ce55f4d8183', 'field': 'high_blood_pressure', 'alias': 'high_blood_pressure', 'position': '5'}, {'checked': True, 'inherited': True, 'is_categorical': False, 'bad_values': '', 'nullable': 'true', '_id': '6630c32cbd593ce55f4d8184', 'field': 'platelets', 'alias': 'platelets', 'position': '6'}, {'checked': True, 'inherited': True, 'is_categorical': False, 'bad_values': '', 'nullable': 'true', '_id': '6630c32cbd593ce55f4d8185', 'field': 'serum_creatinine', 'alias': 'serum_creatinine', 'position': '7'}, {'checked': True, 'inherited': True, 'is_categorical': False, 'bad_values': '', 'nullable': 'true', '_id': '6630c32cbd593ce55f4d8186', 'field': 'serum_sodium', 'alias': 'serum_sodium', 'position': '8'}, {'checked': True, 'inherited': True, 'is_categorical': False, 'bad_values': '', 'nullable': 'true', '_id': '6630c32cbd593ce55f4d8187', 'field': 'sex', 'alias': 'sex', 'position': '9'}, {'checked': True, 'inherited': True, 'is_categorical': False, 'bad_values': '', 'nullable': 'true', '_id': '6630c32cbd593ce55f4d8188', 'field': 'smoking', 'alias': 'smoking', 'position': '10'}, {'checked': True, 'inherited': True, 'is_categorical': False, 'bad_values': '', 'nullable': 'true', '_id': '6630c32cbd593ce55f4d8189', 'field': 'time', 'alias': 'time', 'position': '11'}, {'checked': True, 'inherited': True, 'is_categorical': False, 'bad_values': '', 'nullable': 'true', '_id': '6630c32cbd593ce55f4d818a', 'field': 'DEATH_EVENT', 'alias': 'DEATH_EVENT', 'position': '12'}], 'actual_schema': [{'checked': True, 'inherited': True, 'is_categorical': False, 'bad_values': '', 'nullable': 'true', '_id': '6630c32cbd593ce55f4d817c', 'field': 'age', 'alias': 'age', 'type': 'real'}, {'checked': True, 'inherited': True, 'is_categorical': False, 'bad_values': '', 'nullable': 'true', '_id': '6630c32cbd593ce55f4d817d', 'field': 'anaemia', 'alias': 'anaemia', 'type': 'numeric'}], 'server': 'https://dnm.bfirst.ai:443', 'server_url': '/nexusMax/NexusMaxPlatform/uploads/platform/', 'delimiter': ',', 'file_type': 'Delimeted', 'filename': '30AprJointest.csv', 'token': '', 'domain': '', 'is_header': 'Use Header Line', 'url': '/FileStore/platform/uploadedSourceFiles/part-00000-826069cb-d6cf-4e10-820f-038acb1c5b0b-c000.csv', 'results_url': 'http://dnm.bfirst.ai:44040/api/read/hdfs'}\")\n",
    "\n",
    "except Exception as ex: \n",
    "\tlogging.error(ex)\n"
   ]
  }
 ],
 "metadata": {},
 "nbformat": 4,
 "nbformat_minor": 5
}
